{
 "cells": [
  {
   "cell_type": "markdown",
   "id": "c981861e",
   "metadata": {},
   "source": [
    "# Q1\n",
    "Write a code to display a list of the first 12 multiples of 8 using a for loop\n"
   ]
  },
  {
   "cell_type": "code",
   "execution_count": 3,
   "id": "bdf6f1c7",
   "metadata": {},
   "outputs": [
    {
     "name": "stdout",
     "output_type": "stream",
     "text": [
      "[8, 16, 24, 32, 40, 48, 56, 64, 72, 80, 88, 96]\n"
     ]
    }
   ],
   "source": [
    "\n",
    "list_1 = []\n",
    "for t in range(1,13):\n",
    "    list_1.append(8*t)\n",
    "\n",
    "print(list_1)"
   ]
  },
  {
   "cell_type": "markdown",
   "id": "d9f7d0f9",
   "metadata": {},
   "source": [
    "# Q2\n",
    "Write the code to print sum of all even numbers from 1 to 201"
   ]
  },
  {
   "cell_type": "code",
   "execution_count": 4,
   "id": "5ba7fcca",
   "metadata": {},
   "outputs": [
    {
     "name": "stdout",
     "output_type": "stream",
     "text": [
      "Sum of all even numbers from 1 to 201 is 10100\n"
     ]
    }
   ],
   "source": [
    "\n",
    "even = 0\n",
    "for i in range(1, 202):\n",
    "    if i%2 ==0:\n",
    "        even += i\n",
    "\n",
    "print( f\"Sum of all even numbers from 1 to 201 is {even}\")\n",
    "        \n",
    "        "
   ]
  },
  {
   "cell_type": "markdown",
   "id": "4f0f12d7",
   "metadata": {},
   "source": [
    "# Q3\n",
    "`my_list = [3, 5, 7, 12, 41]`\n",
    "\n",
    "Write the code to display the list of the squares of each number in my list\n",
    "\n",
    "- Without using list comprehension\n",
    "- Using list comprehension\n"
   ]
  },
  {
   "cell_type": "code",
   "execution_count": 5,
   "id": "c275bcea",
   "metadata": {},
   "outputs": [
    {
     "name": "stdout",
     "output_type": "stream",
     "text": [
      "[9, 25, 49, 144, 1681]\n",
      "[9, 25, 49, 144, 1681]\n"
     ]
    }
   ],
   "source": [
    "# Without using list comprehension\n",
    "my_list = [3, 5, 7, 12, 41]\n",
    "squares =[]\n",
    "for num in my_list:\n",
    "    squares.append(num**2)\n",
    "\n",
    "print(squares)\n",
    "\n",
    "# Using list Comprehension\n",
    "squares1 = [num**2 for num in my_list]\n",
    "\n",
    "print(squares1)"
   ]
  },
  {
   "cell_type": "markdown",
   "id": "28bed149",
   "metadata": {},
   "source": [
    "# Q4\n",
    "`my_list1 = [3, 53,47, 22, 53, 78, 12, 41]`\n",
    "\n",
    "Calculate the average of my_list1\n",
    "\n",
    "- Without using sum and len fucnctions\n",
    "- Using sum and len functions\n"
   ]
  },
  {
   "cell_type": "code",
   "execution_count": 1,
   "id": "9bb5b867",
   "metadata": {},
   "outputs": [
    {
     "name": "stdout",
     "output_type": "stream",
     "text": [
      "38.625\n",
      "38.625\n"
     ]
    }
   ],
   "source": [
    "my_list1 = [3, 53,47, 22, 53, 78, 12, 41]\n",
    "\n",
    "#Without using sum and len functions\n",
    "total = 0\n",
    "counter = 0\n",
    "\n",
    "for i in my_list1:\n",
    "    total = total + i\n",
    "    counter = counter + 1\n",
    "print(total/counter)\n",
    "\n",
    "# Using sum and len functions\n",
    "z = sum(my_list1)/len(my_list1)\n",
    "print(z)\n"
   ]
  },
  {
   "cell_type": "markdown",
   "id": "38c1ddff",
   "metadata": {},
   "source": [
    "# Q4\n",
    "\n",
    "Write a Python program to guess a number between 1 and 9.\n",
    "User is prompted to enter a guess. If the user guesses wrong then the prompt appears again until the guess is correct, on successful guess, user will get a \"Well guessed!\" message, and the program will exit."
   ]
  },
  {
   "cell_type": "code",
   "execution_count": 11,
   "id": "c2c0e44f",
   "metadata": {},
   "outputs": [
    {
     "name": "stdout",
     "output_type": "stream",
     "text": [
      "Guess a number between 1 and 10 until you get it right : 1\n",
      "Guess a number between 1 and 10 until you get it right : 2\n",
      "Guess a number between 1 and 10 until you get it right : 3\n",
      "Guess a number between 1 and 10 until you get it right : 4\n",
      "Guess a number between 1 and 10 until you get it right : 5\n",
      "Guess a number between 1 and 10 until you get it right : 6\n",
      "Well guessed!\n"
     ]
    }
   ],
   "source": [
    "import random\n",
    "Comp_guess_num, user_guess_num = random.randint(1, 10), 0\n",
    "while Comp_guess_num != user_guess_num:\n",
    "    user_guess_num = int(input('Guess a number between 1 and 9 until you get it right : '))\n",
    "print('Well guessed!')\n",
    "\n",
    "\n"
   ]
  },
  {
   "cell_type": "markdown",
   "id": "f5c02baa",
   "metadata": {},
   "source": [
    "###### Q5\n",
    "Write a Python program to construct the following pattern.\n",
    "\n",
    "`*` \n",
    "\n",
    "`* *` \n",
    "\n",
    "`* * *` \n",
    "\n",
    "`* * * *` \n",
    "\n",
    "`* * * * *`"
   ]
  },
  {
   "cell_type": "code",
   "execution_count": 19,
   "id": "93931e16",
   "metadata": {},
   "outputs": [
    {
     "name": "stdout",
     "output_type": "stream",
     "text": [
      "*\n",
      "**\n",
      "***\n",
      "****\n",
      "*****\n"
     ]
    }
   ],
   "source": [
    "for i in range(1,6):\n",
    "    print('*'*i )"
   ]
  },
  {
   "cell_type": "markdown",
   "id": "e85d94df",
   "metadata": {},
   "source": [
    "# Q6\n",
    "\n",
    "Write a Python program that accepts a word from the user and reverses it."
   ]
  },
  {
   "cell_type": "code",
   "execution_count": 29,
   "id": "971716a8",
   "metadata": {},
   "outputs": [
    {
     "name": "stdout",
     "output_type": "stream",
     "text": [
      "Input a word to reverse: Emefa Duah\n",
      "hauD afemE\n"
     ]
    }
   ],
   "source": [
    "word = input(\"Input a word to reverse: \")\n",
    "\n",
    "new_word = word[-1::-1]\n",
    "print(new_word)"
   ]
  },
  {
   "cell_type": "markdown",
   "id": "5fe06511",
   "metadata": {},
   "source": [
    "# Q7\n",
    "Write a Python program that accepts a word from the user and reverses it."
   ]
  },
  {
   "cell_type": "code",
   "execution_count": 30,
   "id": "7fcf8203",
   "metadata": {},
   "outputs": [
    {
     "name": "stdout",
     "output_type": "stream",
     "text": [
      "Input a word to reverse: I love Python\n",
      "nohtyP evol I\n"
     ]
    }
   ],
   "source": [
    "word = input(\"Input a word to reverse: \")\n",
    "\n",
    "new_word = word[-1::-1]\n",
    "print(new_word)"
   ]
  },
  {
   "cell_type": "markdown",
   "id": "5a99d4b3",
   "metadata": {},
   "source": [
    "# Q8\n",
    "\n",
    "`lst = [3,4,5,4,7,8,5,8,3,6,8,9,11]`\n",
    "\n",
    "Write a Python program to count the number of even and odd numbers in the above list of numbers.\n",
    "\n",
    "**Expected output should be in this format**\n",
    "\n",
    "{\"Even\" : num_of_even, \"Odd\": num_of_odd}"
   ]
  },
  {
   "cell_type": "code",
   "execution_count": 31,
   "id": "a65e929b",
   "metadata": {},
   "outputs": [
    {
     "name": "stdout",
     "output_type": "stream",
     "text": [
      "{'Even': 6, 'Odd': 7}\n"
     ]
    }
   ],
   "source": [
    "lst = [3,4,5,4,7,8,5,8,3,6,8,9,11]\n",
    "dict ={\"Even\":0,\"Odd\":0}\n",
    "\n",
    "\n",
    "for n in lst:\n",
    "    if n%2==0:\n",
    "        dict[\"Even\"] +=1 \n",
    "    else:\n",
    "        dict[\"Odd\"] +=1\n",
    "print(dict)"
   ]
  },
  {
   "cell_type": "markdown",
   "id": "c92b54f9",
   "metadata": {},
   "source": [
    "# Q9\n",
    " Write a Python program that iterates the integers from 1 to 50. For multiples of three print \"Fizz\" instead of the number and for multiples of five print \"Buzz\". For numbers that are multiples of three and five, print \"FizzBuzz\".\n",
    "Sample Output :\n",
    "1\n",
    "\n",
    "2\n",
    "\n",
    "fizz\n",
    "\n",
    "4\n",
    "\n",
    "buzz"
   ]
  },
  {
   "cell_type": "code",
   "execution_count": 32,
   "id": "f2472d52",
   "metadata": {},
   "outputs": [
    {
     "name": "stdout",
     "output_type": "stream",
     "text": [
      "1\n",
      "2\n",
      "fizz\n",
      "4\n",
      "buzz\n",
      "fizz\n",
      "7\n",
      "8\n",
      "fizz\n",
      "buzz\n",
      "11\n",
      "fizz\n",
      "13\n",
      "14\n",
      "fizzbuzz\n",
      "16\n",
      "17\n",
      "fizz\n",
      "19\n",
      "buzz\n",
      "fizz\n",
      "22\n",
      "23\n",
      "fizz\n",
      "buzz\n",
      "26\n",
      "fizz\n",
      "28\n",
      "29\n",
      "fizzbuzz\n",
      "31\n",
      "32\n",
      "fizz\n",
      "34\n",
      "buzz\n",
      "fizz\n",
      "37\n",
      "38\n",
      "fizz\n",
      "buzz\n",
      "41\n",
      "fizz\n",
      "43\n",
      "44\n",
      "fizzbuzz\n",
      "46\n",
      "47\n",
      "fizz\n",
      "49\n",
      "buzz\n"
     ]
    }
   ],
   "source": [
    "for i in range(1,51):\n",
    "    if i%3 == 0 and i%5 == 0:\n",
    "        print(\"fizzbuzz\")\n",
    "    elif i%5 == 0:\n",
    "        print(\"buzz\")\n",
    "    elif i%3 == 0:\n",
    "        print(\"fizz\")\n",
    "    else:\n",
    "        print(i)"
   ]
  },
  {
   "cell_type": "markdown",
   "id": "8d3505cf",
   "metadata": {},
   "source": [
    "# Q10\n",
    " Write a Python program to find the median of three values inputs from the user"
   ]
  },
  {
   "cell_type": "code",
   "execution_count": 49,
   "id": "d323c0ab",
   "metadata": {},
   "outputs": [
    {
     "name": "stdout",
     "output_type": "stream",
     "text": [
      "Input first number: 8\n",
      "Input second number: 5\n",
      "Input third number: 9\n",
      "The median of (8.0, 5.0, 9.0) is 8.0\n"
     ]
    }
   ],
   "source": [
    "a = float(input(\"Input first number: \"))\n",
    "b = float(input(\"Input second number: \"))\n",
    "c = float(input(\"Input third number: \"))\n",
    "if a > b:\n",
    "    if a < c:\n",
    "        median = a\n",
    "    elif b > c:\n",
    "        median = b\n",
    "    else:\n",
    "        median = c\n",
    "else:\n",
    "    if a > c:\n",
    "        median = a\n",
    "    elif b < c:\n",
    "        median = b\n",
    "    else:\n",
    "        median = c\n",
    "\n",
    "print(f\"The median of {a,b,c} is\", median)\n"
   ]
  },
  {
   "cell_type": "markdown",
   "id": "9ef4f8a2",
   "metadata": {},
   "source": [
    "# Q11\n",
    "Write a Python program to calculate the sum and average of n integer numbers (input from the user). Input 0 to finish."
   ]
  },
  {
   "cell_type": "code",
   "execution_count": 48,
   "id": "fa8f8ce6",
   "metadata": {
    "scrolled": true
   },
   "outputs": [
    {
     "name": "stdout",
     "output_type": "stream",
     "text": [
      "Input any number other 0. Input 0 only to finish => 3\n",
      "Input any number other 0. Input 0 only to finish => 5\n",
      "Input any number other 0. Input 0 only to finish => 8\n",
      "Input any number other 0. Input 0 only to finish => 10\n",
      "Input any number other 0. Input 0 only to finish => 0\n",
      "Finished\n",
      " The sum and average of [3, 5, 8, 10] is 26 and 6.5 respectively\n"
     ]
    }
   ],
   "source": [
    "\n",
    "counter =[]\n",
    "user = 2\n",
    "\n",
    "while user != 0:\n",
    "        user = int(input(\"Input any number other 0. Input 0 only to finish => \"))\n",
    "        if user !=0:\n",
    "            counter.append(user)\n",
    "        else:\n",
    "            print(\"Finished\")\n",
    "            \n",
    "\n",
    "print(f\" The sum and average of {counter} is {sum(counter)} and {round(sum(counter)/len(counter),2)} respectively\")\n",
    "\n",
    "    "
   ]
  },
  {
   "cell_type": "markdown",
   "id": "78c8a7e0",
   "metadata": {},
   "source": [
    "# Q12\n",
    " Write a Python program to create the multiplication table (from 1 to 12) of a number input from a user.\n",
    " \n",
    " Expected Output:\n",
    "\n",
    "Input a number: 6                                                       \n",
    "6 x 1 = 6                                                               \n",
    "6 x 2 = 12                                                              \n",
    "6 x 3 = 18                                                              \n",
    "6 x 4 = 24                                                              \n",
    "6 x 5 = 30                                                              \n",
    "6 x 6 = 36                                                              \n",
    "6 x 7 = 42                                                              \n",
    "6 x 8 = 48                                                              \n",
    "6 x 9 = 54                                                              \n",
    "6 x 10 = 60 \n",
    "\n",
    "6 x 11 = 66\n",
    "\n",
    "6 x 12 = 72"
   ]
  },
  {
   "cell_type": "code",
   "execution_count": 52,
   "id": "0371a2b7",
   "metadata": {},
   "outputs": [
    {
     "name": "stdout",
     "output_type": "stream",
     "text": [
      "Input a number: 6\n",
      "6 x 1 = 6\n",
      "6 x 2 = 12\n",
      "6 x 3 = 18\n",
      "6 x 4 = 24\n",
      "6 x 5 = 30\n",
      "6 x 6 = 36\n",
      "6 x 7 = 42\n",
      "6 x 8 = 48\n",
      "6 x 9 = 54\n",
      "6 x 10 = 60\n",
      "6 x 11 = 66\n",
      "6 x 12 = 72\n"
     ]
    }
   ],
   "source": [
    "num = int(input(\"Input a number: \"))\n",
    "\n",
    "for i in range(1,13):\n",
    "    print(num, \"x\", i, \"=\", num*i)"
   ]
  },
  {
   "cell_type": "markdown",
   "id": "8cc97048",
   "metadata": {},
   "source": [
    "# Q13\n",
    "Write a Python program to construct the following pattern\n",
    "\n",
    "1\n",
    "\n",
    "22\n",
    "\n",
    "333\n",
    "\n",
    "4444\n",
    "\n",
    "55555\n",
    "\n",
    "666666\n",
    "\n",
    "7777777\n",
    "\n",
    "88888888\n",
    "\n",
    "999999999"
   ]
  },
  {
   "cell_type": "code",
   "execution_count": 54,
   "id": "f932d019",
   "metadata": {},
   "outputs": [
    {
     "name": "stdout",
     "output_type": "stream",
     "text": [
      "1\n",
      "22\n",
      "333\n",
      "4444\n",
      "55555\n",
      "666666\n",
      "7777777\n",
      "88888888\n",
      "999999999\n"
     ]
    }
   ],
   "source": [
    "for u in range(1,10):\n",
    "    print(u*str(u))"
   ]
  },
  {
   "cell_type": "markdown",
   "id": "adef967a",
   "metadata": {},
   "source": [
    "# Q14\n",
    "Print sum of all odd numbers from 10 to 50"
   ]
  },
  {
   "cell_type": "code",
   "execution_count": 56,
   "id": "483db8a8",
   "metadata": {},
   "outputs": [
    {
     "name": "stdout",
     "output_type": "stream",
     "text": [
      " The sum of all odd numbers from 10 to 50 is 600\n"
     ]
    }
   ],
   "source": [
    "sum = 0\n",
    "\n",
    "for x in range(10,50+1):\n",
    "    if (x%2) != 0:\n",
    "        sum = sum + x\n",
    "\n",
    "print(f\" The sum of all odd numbers from 10 to 50 is {sum}\")"
   ]
  },
  {
   "cell_type": "markdown",
   "id": "1642ec1a",
   "metadata": {},
   "source": [
    "# Q15\n",
    "\n",
    "`my_list = [25, 100, 121, 400, 81]`\n",
    "\n",
    "Write the code to display the list of the square root of each number in my list\n",
    "\n",
    "- Without using list comprehension\n",
    "- Using list comprehension"
   ]
  },
  {
   "cell_type": "code",
   "execution_count": 58,
   "id": "be3f0615",
   "metadata": {},
   "outputs": [
    {
     "name": "stdout",
     "output_type": "stream",
     "text": [
      " The square_root of [25, 100, 121, 400, 81] is [5, 10, 11, 20, 9]\n",
      " The square_root of [25, 100, 121, 400, 81] is [5, 10, 11, 20, 9]\n"
     ]
    }
   ],
   "source": [
    "# Without using list comprehension\n",
    "my_list = [25, 100, 121, 400, 81]\n",
    "square_root = []\n",
    "\n",
    "for x in my_list:\n",
    "    square_root.append(int(x**0.5))\n",
    "\n",
    "print(f\" The square_root of {my_list} is {square_root}\")\n",
    "\n",
    "# Using list comprehension\n",
    "sqr_root = [int(x**0.5) for x in my_list]\n",
    "print(f\" The square_root of {my_list} is {square_root}\")"
   ]
  },
  {
   "cell_type": "code",
   "execution_count": null,
   "id": "5b421623",
   "metadata": {},
   "outputs": [],
   "source": []
  }
 ],
 "metadata": {
  "kernelspec": {
   "display_name": "Python 3 (ipykernel)",
   "language": "python",
   "name": "python3"
  },
  "language_info": {
   "codemirror_mode": {
    "name": "ipython",
    "version": 3
   },
   "file_extension": ".py",
   "mimetype": "text/x-python",
   "name": "python",
   "nbconvert_exporter": "python",
   "pygments_lexer": "ipython3",
   "version": "3.9.12"
  }
 },
 "nbformat": 4,
 "nbformat_minor": 5
}
