{
 "cells": [
  {
   "cell_type": "markdown",
   "id": "3c2e90df",
   "metadata": {},
   "source": [
    "### Q1\n",
    "\n",
    "Name the four built-in data structures in python. Give one examples for each\n"
   ]
  },
  {
   "cell_type": "code",
   "execution_count": 6,
   "id": "8abfb017",
   "metadata": {},
   "outputs": [],
   "source": [
    "#list\n",
    "mylist = [\"pencil\", \"book\", \"eraser\"]"
   ]
  },
  {
   "cell_type": "code",
   "execution_count": 5,
   "id": "129a4d2a",
   "metadata": {},
   "outputs": [],
   "source": [
    "#tuples\n",
    "mytuple = (\"pencil\", \"book\", \"eraser\")"
   ]
  },
  {
   "cell_type": "code",
   "execution_count": 4,
   "id": "78c89db9",
   "metadata": {},
   "outputs": [],
   "source": [
    "#sets \n",
    "myset = {\"pencil\", \"book\", \"eraser\"}"
   ]
  },
  {
   "cell_type": "code",
   "execution_count": 3,
   "id": "e61ad1fc",
   "metadata": {},
   "outputs": [],
   "source": [
    "#dictionary:\n",
    "mydict = {\n",
    "  \"Stationary\": \"Pencil\",\n",
    "  \"Utensil\": \"Frying pan\",\n",
    "  \"Furniture\": \"Chair\"\n",
    "}"
   ]
  },
  {
   "cell_type": "markdown",
   "id": "b6e1dd1b",
   "metadata": {},
   "source": [
    "### Q2\n",
    "\n",
    "State two differences between a list and a tuple in Python.\n"
   ]
  },
  {
   "cell_type": "code",
   "execution_count": null,
   "id": "0502bc28",
   "metadata": {},
   "outputs": [],
   "source": [
    "#1. Lists are mutable while whiles tuple are imutable\n",
    "#2. Lists are initiated with with [] while tuples are initiated with ()"
   ]
  },
  {
   "cell_type": "markdown",
   "id": "815b4e67",
   "metadata": {},
   "source": [
    "### Q3\n",
    "Make a list containing names of five animals with a variable name `animal_list`\n",
    "\n",
    "Write a code for the following:\n",
    "- Print the first two animals\n",
    "- Print the last two animals\n",
    "- Add three extra animals to the variable `animal_list`\n",
    "- Remove the first two animals from the variable `animal_list`\n",
    "- How many animals are in the `animal_list`?\n",
    "- Create a variable animal_set which stores the set of animal_list \n",
    "- How many elements are in the animal_set?\n"
   ]
  },
  {
   "cell_type": "code",
   "execution_count": 39,
   "id": "be6896f2",
   "metadata": {},
   "outputs": [],
   "source": [
    "animal_list=[\"Dog\",\"Cat\",\"Cow\",\"Rabbit\",\"Cattle\"]"
   ]
  },
  {
   "cell_type": "code",
   "execution_count": 40,
   "id": "0b8c2b76",
   "metadata": {},
   "outputs": [
    {
     "name": "stdout",
     "output_type": "stream",
     "text": [
      "['Dog', 'Cat']\n"
     ]
    }
   ],
   "source": [
    "#Print the first two animals\n",
    "print(animal_list[:2])\n"
   ]
  },
  {
   "cell_type": "code",
   "execution_count": 41,
   "id": "3c4a5e2d",
   "metadata": {},
   "outputs": [
    {
     "name": "stdout",
     "output_type": "stream",
     "text": [
      "['Rabbit', 'Cattle']\n"
     ]
    }
   ],
   "source": [
    "#Print the last two animals\n",
    "print(animal_list[-2:])\n",
    "\n"
   ]
  },
  {
   "cell_type": "code",
   "execution_count": 42,
   "id": "084ecd0b",
   "metadata": {},
   "outputs": [
    {
     "name": "stdout",
     "output_type": "stream",
     "text": [
      "['Dog', 'Cat', 'Cow', 'Rabbit', 'Cattle', 'Lion', 'Tiger', 'Goat']\n"
     ]
    }
   ],
   "source": [
    "#Add three extra animals to the variable `animal_list`\n",
    "animal_list.extend([\"Lion\",\"Tiger\",\"Goat\"])\n",
    "print(animal_list)"
   ]
  },
  {
   "cell_type": "code",
   "execution_count": 43,
   "id": "0ba870c5",
   "metadata": {},
   "outputs": [
    {
     "data": {
      "text/plain": [
       "['Cow', 'Rabbit', 'Cattle', 'Lion', 'Tiger', 'Goat']"
      ]
     },
     "execution_count": 43,
     "metadata": {},
     "output_type": "execute_result"
    }
   ],
   "source": [
    " #Remove the first two animals from the variable `animal_list`\n",
    "animal_list.remove(\"Dog\")\n",
    "animal_list.remove(\"Cat\")\n",
    "animal_list"
   ]
  },
  {
   "cell_type": "code",
   "execution_count": 44,
   "id": "79a77f72",
   "metadata": {},
   "outputs": [
    {
     "data": {
      "text/plain": [
       "6"
      ]
     },
     "execution_count": 44,
     "metadata": {},
     "output_type": "execute_result"
    }
   ],
   "source": [
    "#How many animals are in the `animal_list`?\n",
    "len(animal_list)"
   ]
  },
  {
   "cell_type": "code",
   "execution_count": 46,
   "id": "0f19170a",
   "metadata": {},
   "outputs": [
    {
     "data": {
      "text/plain": [
       "{'Cattle', 'Cow', 'Goat', 'Lion', 'Rabbit', 'Tiger'}"
      ]
     },
     "execution_count": 46,
     "metadata": {},
     "output_type": "execute_result"
    }
   ],
   "source": [
    "#Create a variable animal_set which stores the set of animal_list\n",
    "animal_set=set(animal_list)\n",
    "animal_set"
   ]
  },
  {
   "cell_type": "code",
   "execution_count": 47,
   "id": "954998d3",
   "metadata": {},
   "outputs": [
    {
     "data": {
      "text/plain": [
       "6"
      ]
     },
     "execution_count": 47,
     "metadata": {},
     "output_type": "execute_result"
    }
   ],
   "source": [
    "#How many elements are in the animal_set?\n",
    "len(animal_set)"
   ]
  },
  {
   "cell_type": "markdown",
   "id": "113c9970",
   "metadata": {},
   "source": [
    "### Q4\n",
    "\n",
    "Given a list:\n",
    "\n",
    "suitcase = [\"sunglasses\", \"hat\", \"passport\", \"laptop\", \"suit\", \"shoes\"]\n",
    "\n",
    "a. Create a list called first containing only the two first items from suitcase.\n",
    "\n",
    "b. Create a list called middle containing only the two middle items from suitcase.\n",
    "\n",
    "c. Create a list called last made up only of the last two items from suitcase."
   ]
  },
  {
   "cell_type": "code",
   "execution_count": 49,
   "id": "0bf514c7",
   "metadata": {},
   "outputs": [],
   "source": [
    "suitcase = [\"sunglasses\", \"hat\", \"passport\", \"laptop\", \"suit\", \"shoes\"]\n"
   ]
  },
  {
   "cell_type": "code",
   "execution_count": 52,
   "id": "6463bf47",
   "metadata": {},
   "outputs": [
    {
     "name": "stdout",
     "output_type": "stream",
     "text": [
      "['sunglasses', 'hat']\n"
     ]
    }
   ],
   "source": [
    "#Create a list called first containing only the two first items from suitcase.\n",
    "first = suitcase[:2]\n",
    "print(first)"
   ]
  },
  {
   "cell_type": "code",
   "execution_count": 55,
   "id": "41e524f0",
   "metadata": {},
   "outputs": [
    {
     "name": "stdout",
     "output_type": "stream",
     "text": [
      "['passport', 'laptop']\n"
     ]
    }
   ],
   "source": [
    "#Create a list called middle containing only the two middle items from suitcase.\n",
    "middle = suitcase[2:4]\n",
    "print(middle)"
   ]
  },
  {
   "cell_type": "code",
   "execution_count": 60,
   "id": "6d488b4e",
   "metadata": {},
   "outputs": [
    {
     "name": "stdout",
     "output_type": "stream",
     "text": [
      "['suit', 'shoes']\n"
     ]
    }
   ],
   "source": [
    "#Create a list called last made up only of the last two items from suitcase.\n",
    "last = suitcase[-2:]\n",
    "print(last)"
   ]
  },
  {
   "cell_type": "markdown",
   "id": "711ba044",
   "metadata": {},
   "source": [
    "### Q5\n",
    "Write a python code to insert 35 into the list below. Make sure it is inserted in the right position to maintain the order of the data.\n",
    "\n",
    "`values = [20,25,30,40,45,50,55,60,65,70]`"
   ]
  },
  {
   "cell_type": "code",
   "execution_count": 63,
   "id": "a063521e",
   "metadata": {},
   "outputs": [
    {
     "name": "stdout",
     "output_type": "stream",
     "text": [
      "[20, 25, 30, 35, 40, 45, 50, 55, 60, 65, 70]\n"
     ]
    }
   ],
   "source": [
    "values = [20,25,30,40,45,50,55,60,65,70]\n",
    "values.insert(3,35)\n",
    "print(values)"
   ]
  },
  {
   "cell_type": "markdown",
   "id": "f535cf64",
   "metadata": {},
   "source": [
    "### Q6\n",
    "\n",
    "Given that Python lists and Python tuples are quite similar – when might you prefer to use a tuple over a list?"
   ]
  },
  {
   "cell_type": "code",
   "execution_count": null,
   "id": "42a3a3d0",
   "metadata": {},
   "outputs": [],
   "source": [
    "#I will prefer to use tuple over a list if the data stored shouldnt change"
   ]
  },
  {
   "cell_type": "markdown",
   "id": "346927f6",
   "metadata": {},
   "source": [
    "### Q7\n",
    "Create a dictionary with 5 Ghana regions and their capitals and store it in the variable `region_capital`\n",
    "\n",
    "- Print out the keys of region_capital\n",
    "- Print out the values of region_capital\n"
   ]
  },
  {
   "cell_type": "code",
   "execution_count": 7,
   "id": "f4d75eea",
   "metadata": {},
   "outputs": [
    {
     "name": "stdout",
     "output_type": "stream",
     "text": [
      "dict_keys(['Greater Accra Region', 'Central Region', 'Volta Region', 'Ashanti Region', 'Western Region'])\n",
      "dict_values(['Accra', 'Capecoast', 'Ho', 'Kumasi', 'Takoradi'])\n"
     ]
    }
   ],
   "source": [
    "region_capital = {\n",
    "    \"Greater Accra Region\": \"Accra\",\n",
    "    \"Central Region\":\"Capecoast\",\n",
    "    \"Volta Region\":\"Ho\", \n",
    "    \"Ashanti Region\":\"Kumasi\",\n",
    "    \"Western Region\":\"Takoradi\"\n",
    "}\n",
    "\n",
    "#Print out the keys of region_capital\n",
    "print(region_capital.keys())\n",
    "\n",
    "#Print out the values of region_capital\n",
    "print(region_capital.values())"
   ]
  },
  {
   "cell_type": "markdown",
   "id": "70526b3b",
   "metadata": {},
   "source": [
    "### Q8\n",
    "\n",
    "`values = [3,4,5,6,3,4,3,5,2,4,2,5,6,1,6,3]`\n",
    "\n",
    "Using the codes above answer the following questions:\n",
    "- What is the total number of elements in values?\n",
    "- What is the highest occuring number in the values variable?\n",
    "- Convert values into a set and store it into a variable named `values_set`\n",
    "- How many elements are in the variable values_set?\n"
   ]
  },
  {
   "cell_type": "code",
   "execution_count": 76,
   "id": "8d1440ba",
   "metadata": {},
   "outputs": [],
   "source": [
    "values = [3,4,5,6,3,4,3,5,2,4,2,5,6,1,6,3]"
   ]
  },
  {
   "cell_type": "code",
   "execution_count": 72,
   "id": "ceae7695",
   "metadata": {},
   "outputs": [
    {
     "data": {
      "text/plain": [
       "16"
      ]
     },
     "execution_count": 72,
     "metadata": {},
     "output_type": "execute_result"
    }
   ],
   "source": [
    "#What is the total number of elements in values?\n",
    "len(values)"
   ]
  },
  {
   "cell_type": "code",
   "execution_count": 79,
   "id": "e7206649",
   "metadata": {},
   "outputs": [
    {
     "data": {
      "text/plain": [
       "3"
      ]
     },
     "execution_count": 79,
     "metadata": {},
     "output_type": "execute_result"
    }
   ],
   "source": [
    "#What is the highest occuring number in the values variable?\n",
    "count_values = {}\n",
    "\n",
    "for a in values:\n",
    "    if a in count_values:\n",
    "        count_values[a] += 1\n",
    "    else:\n",
    "        count_values[a] = 1\n",
    "\n",
    "Highest_Occuring = max(count_values, key=count_values.get)\n",
    "\n",
    "Highest_Occuring\n"
   ]
  },
  {
   "cell_type": "code",
   "execution_count": 77,
   "id": "16c0ad1d",
   "metadata": {},
   "outputs": [
    {
     "name": "stdout",
     "output_type": "stream",
     "text": [
      "{1, 2, 3, 4, 5, 6}\n"
     ]
    }
   ],
   "source": [
    "#Convert values into a set and store it into a variable named values_set\n",
    "values_set= set(values)\n",
    "print(values_set)"
   ]
  },
  {
   "cell_type": "code",
   "execution_count": 78,
   "id": "54ed802c",
   "metadata": {},
   "outputs": [
    {
     "data": {
      "text/plain": [
       "6"
      ]
     },
     "execution_count": 78,
     "metadata": {},
     "output_type": "execute_result"
    }
   ],
   "source": [
    "#How many elements are in the variable values_set?\n",
    "len(values_set)"
   ]
  },
  {
   "cell_type": "markdown",
   "id": "801d5876",
   "metadata": {},
   "source": [
    "### Q9\n",
    "Write a Python script to print a dictionary where the keys are numbers between 1 and 15 (both included) and the values are the square of the keys."
   ]
  },
  {
   "cell_type": "code",
   "execution_count": 82,
   "id": "84940b35",
   "metadata": {},
   "outputs": [
    {
     "name": "stdout",
     "output_type": "stream",
     "text": [
      "{1: 1, 2: 4, 3: 9, 4: 16, 5: 25, 6: 36, 7: 49, 8: 64, 9: 81, 10: 100, 11: 121, 12: 144, 13: 169, 14: 196, 15: 225}\n"
     ]
    }
   ],
   "source": [
    "a=dict()\n",
    "for x in range(1,16):\n",
    "    a[x]=x**2\n",
    "print(a)  "
   ]
  },
  {
   "cell_type": "markdown",
   "id": "18954e57",
   "metadata": {},
   "source": [
    "### Q10\n",
    "Write a Python program to create a dictionary of keys x, y, and z where each key has as value a list from 11-20, 21-30, and 31-40 respectively. Access the fifth value of each key from the dictionary."
   ]
  },
  {
   "cell_type": "code",
   "execution_count": 8,
   "id": "fec19820",
   "metadata": {},
   "outputs": [
    {
     "name": "stdout",
     "output_type": "stream",
     "text": [
      "x : 15\n",
      "y : 25\n",
      "z : 15\n"
     ]
    }
   ],
   "source": [
    "keys = ['x', 'y', 'z']\n",
    "\n",
    "\n",
    "dictionary = {}\n",
    "for key in keys:\n",
    "    if key == 'x':\n",
    "        dictionary[key] = list(range(11,21))\n",
    "    elif key == 'y':\n",
    "            dictionary[key] = list(range(21,31))\n",
    "    else:\n",
    "        dictionary[key] = list(range(11,21))\n",
    "        \n",
    "for key in keys:\n",
    "    print(f'{key} : {dictionary[key][4]}')"
   ]
  },
  {
   "cell_type": "code",
   "execution_count": null,
   "id": "aafcdc58",
   "metadata": {},
   "outputs": [],
   "source": []
  }
 ],
 "metadata": {
  "kernelspec": {
   "display_name": "Python 3 (ipykernel)",
   "language": "python",
   "name": "python3"
  },
  "language_info": {
   "codemirror_mode": {
    "name": "ipython",
    "version": 3
   },
   "file_extension": ".py",
   "mimetype": "text/x-python",
   "name": "python",
   "nbconvert_exporter": "python",
   "pygments_lexer": "ipython3",
   "version": "3.9.12"
  }
 },
 "nbformat": 4,
 "nbformat_minor": 5
}
