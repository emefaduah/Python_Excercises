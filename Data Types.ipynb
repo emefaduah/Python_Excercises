{
 "cells": [
  {
   "cell_type": "markdown",
   "id": "1971db0e",
   "metadata": {},
   "source": [
    "### Q1\n",
    "List the basic data types in python and give one example each."
   ]
  },
  {
   "cell_type": "raw",
   "id": "e3677021",
   "metadata": {},
   "source": [
    "# Integer "
   ]
  },
  {
   "cell_type": "code",
   "execution_count": 69,
   "id": "a992dd7a",
   "metadata": {},
   "outputs": [],
   "source": [
    "m= 10\n"
   ]
  },
  {
   "cell_type": "raw",
   "id": "f371664a",
   "metadata": {},
   "source": [
    "# Float "
   ]
  },
  {
   "cell_type": "code",
   "execution_count": 70,
   "id": "687eb547",
   "metadata": {},
   "outputs": [],
   "source": [
    "n=20.5"
   ]
  },
  {
   "cell_type": "raw",
   "id": "0bcb93a3",
   "metadata": {},
   "source": [
    "# Boolean "
   ]
  },
  {
   "cell_type": "code",
   "execution_count": 71,
   "id": "f6019226",
   "metadata": {},
   "outputs": [],
   "source": [
    "p = True\n"
   ]
  },
  {
   "cell_type": "raw",
   "id": "70db22a9",
   "metadata": {},
   "source": [
    "# String"
   ]
  },
  {
   "cell_type": "code",
   "execution_count": 72,
   "id": "559677b1",
   "metadata": {},
   "outputs": [],
   "source": [
    "profession =\"I am a Pythonista\""
   ]
  },
  {
   "cell_type": "markdown",
   "id": "4a2be5ba",
   "metadata": {},
   "source": [
    "### Q2\n",
    "Change the variable x = 4539.85 to :\n",
    "\n",
    "(i) a string and assign it to a new variable y,\n",
    "\n",
    "(ii) an integer and assign it to a new variable z\n",
    "\n",
    "Print out the type of y and z."
   ]
  },
  {
   "cell_type": "raw",
   "id": "91e3e2ed",
   "metadata": {},
   "source": [
    "#  Change variable  x to a string and assign it to a new variable y"
   ]
  },
  {
   "cell_type": "code",
   "execution_count": 73,
   "id": "09c2b527",
   "metadata": {},
   "outputs": [
    {
     "name": "stdout",
     "output_type": "stream",
     "text": [
      "<class 'str'>\n"
     ]
    }
   ],
   "source": [
    "x = 4539.85\n",
    "y=str(x)\n",
    "print (type(y))"
   ]
  },
  {
   "cell_type": "raw",
   "id": "dbe1d19b",
   "metadata": {},
   "source": [
    "# Change variable x an integer and assign it to a new variable z"
   ]
  },
  {
   "cell_type": "code",
   "execution_count": 74,
   "id": "73d4786c",
   "metadata": {},
   "outputs": [
    {
     "name": "stdout",
     "output_type": "stream",
     "text": [
      "<class 'int'>\n"
     ]
    }
   ],
   "source": [
    "x = 4539.85\n",
    "z=int(x)\n",
    "print (type(z))"
   ]
  },
  {
   "cell_type": "markdown",
   "id": "81a1251c",
   "metadata": {},
   "source": [
    "### Q3\n",
    "\n",
    "What data type would you use to store\n",
    "\n",
    "a. The price of car?  float\n",
    "\n",
    "b. The age of a person? integer\n",
    "\n",
    "c. car plate number: plateNumber = \"AV01-AFP\"? string\n",
    "\n",
    "d. The price of fuel? float\n",
    "\n",
    "e. The number of students in the class? integer\n",
    "\n",
    "f. The weight of a person? float\n",
    "\n",
    "g. Check whether two figures are equal? boolean\n",
    "\n",
    "i. The name of a  school? string\n",
    "\n",
    "j. The average result of the overall score of a student? float\n",
    "\n",
    "k. The total number of vote cast? integer\n",
    "\n"
   ]
  },
  {
   "cell_type": "markdown",
   "id": "f0694362",
   "metadata": {},
   "source": [
    "# Q4\n",
    "**Thomas Partey is arguably the best player in the Black Stars. He is a great addition to the team**\n",
    "\n",
    "Split the statement above into **two statement_1** and **statement_2** such that statement_1 will be 'Thomas Partey is arguably the best player in the Black Stars' and statement_2 will be 'He is a great addition to the team'\n",
    "\n",
    "Statement:\n",
    "\n",
    "- **What is the length of statment 1?**\n",
    "-**What is the length of statment 2?**\n",
    "-**Is the length of statement 1 greater than statement 2**"
   ]
  },
  {
   "cell_type": "code",
   "execution_count": 76,
   "id": "51bc4996",
   "metadata": {},
   "outputs": [],
   "source": [
    "statement=\"Thomas Partey is arguably the best player in the Black Stars. He is a great addition to the team\"\n",
    "len(statement)\n",
    "split=statement.split(\".\")\n",
    "split\n",
    "statement_1=split[0]\n",
    "statement_2=split[1]"
   ]
  },
  {
   "cell_type": "raw",
   "id": "d9fe9791",
   "metadata": {},
   "source": [
    "# What is the length of statment 1?"
   ]
  },
  {
   "cell_type": "code",
   "execution_count": 22,
   "id": "26aa90d5",
   "metadata": {},
   "outputs": [
    {
     "data": {
      "text/plain": [
       "60"
      ]
     },
     "execution_count": 22,
     "metadata": {},
     "output_type": "execute_result"
    }
   ],
   "source": [
    "len(statement_1)"
   ]
  },
  {
   "cell_type": "raw",
   "id": "85c51344",
   "metadata": {},
   "source": [
    "# What is the length of statment 2?"
   ]
  },
  {
   "cell_type": "code",
   "execution_count": 23,
   "id": "20557322",
   "metadata": {},
   "outputs": [
    {
     "data": {
      "text/plain": [
       "35"
      ]
     },
     "execution_count": 23,
     "metadata": {},
     "output_type": "execute_result"
    }
   ],
   "source": [
    "len(statement_2)"
   ]
  },
  {
   "cell_type": "raw",
   "id": "ee83a6ab",
   "metadata": {},
   "source": [
    "# Is the length of statement 1 greater than statement 2?"
   ]
  },
  {
   "cell_type": "code",
   "execution_count": 77,
   "id": "f6eb6918",
   "metadata": {},
   "outputs": [
    {
     "data": {
      "text/plain": [
       "True"
      ]
     },
     "execution_count": 77,
     "metadata": {},
     "output_type": "execute_result"
    }
   ],
   "source": [
    "len(statement_1)>len(statement_2)"
   ]
  },
  {
   "cell_type": "markdown",
   "id": "ceb46447",
   "metadata": {},
   "source": [
    "### Q5\n",
    "What values does python use to represent **True** and **False** respectively?"
   ]
  },
  {
   "cell_type": "code",
   "execution_count": 27,
   "id": "d46733d3",
   "metadata": {},
   "outputs": [
    {
     "data": {
      "text/plain": [
       "True"
      ]
     },
     "execution_count": 27,
     "metadata": {},
     "output_type": "execute_result"
    }
   ],
   "source": [
    "True==1"
   ]
  },
  {
   "cell_type": "code",
   "execution_count": 28,
   "id": "e152a3f8",
   "metadata": {},
   "outputs": [
    {
     "data": {
      "text/plain": [
       "True"
      ]
     },
     "execution_count": 28,
     "metadata": {},
     "output_type": "execute_result"
    }
   ],
   "source": [
    "False==0"
   ]
  },
  {
   "cell_type": "raw",
   "id": "0c1b4e5e",
   "metadata": {},
   "source": [
    " 1 is used to represent True and 0 is used to represent False"
   ]
  },
  {
   "cell_type": "markdown",
   "id": "e4cc9b15",
   "metadata": {},
   "source": [
    "### Q6\n",
    "Write a code to evaluate if the following statments are True or False.\n",
    "\n",
    "1. 78 is greater than 46 and less than 30 which is an odd number.\n",
    "\n",
    "2. 8-2 is an even number or 8 is a is an odd number.\n",
    "\n",
    "3. The number of characters in the word 'boostrap' is 7 and that of 'sample' is 6."
   ]
  },
  {
   "cell_type": "raw",
   "id": "d597653f",
   "metadata": {},
   "source": [
    "1. 78 is greater than 46 and less than 30 which is an odd number."
   ]
  },
  {
   "cell_type": "code",
   "execution_count": 78,
   "id": "29d7c903",
   "metadata": {},
   "outputs": [
    {
     "data": {
      "text/plain": [
       "False"
      ]
     },
     "execution_count": 78,
     "metadata": {},
     "output_type": "execute_result"
    }
   ],
   "source": [
    "(46<78<30) and (30%2==1)"
   ]
  },
  {
   "cell_type": "raw",
   "id": "407a91af",
   "metadata": {},
   "source": [
    "2. 8-2 is an even number or 8 is a is an odd number."
   ]
  },
  {
   "cell_type": "code",
   "execution_count": 60,
   "id": "0792803f",
   "metadata": {},
   "outputs": [
    {
     "data": {
      "text/plain": [
       "True"
      ]
     },
     "execution_count": 60,
     "metadata": {},
     "output_type": "execute_result"
    }
   ],
   "source": [
    "((8-2)%2 == 0) or (8%2 == 1)"
   ]
  },
  {
   "cell_type": "raw",
   "id": "8b159773",
   "metadata": {},
   "source": [
    "3.The number of characters in the word 'boostrap' is 7 and that of 'sample' is 6."
   ]
  },
  {
   "cell_type": "code",
   "execution_count": 63,
   "id": "cdf68ff0",
   "metadata": {},
   "outputs": [
    {
     "data": {
      "text/plain": [
       "False"
      ]
     },
     "execution_count": 63,
     "metadata": {},
     "output_type": "execute_result"
    }
   ],
   "source": [
    "(len(\"boostrap\") == 7) and (len(\"sample\")== 6)"
   ]
  },
  {
   "cell_type": "markdown",
   "id": "bc13f9fc",
   "metadata": {},
   "source": [
    "### Q7\n",
    "Given the following python code,\n",
    "\n",
    "`word='Hello, How are you?'`\n",
    "\n",
    "Write Python code to return the following\n",
    "\n",
    "- How\n",
    "- How are you\n",
    "- are\n",
    "- ?\n",
    "- Hello, How are you\n",
    "\n",
    "\n",
    " "
   ]
  },
  {
   "cell_type": "code",
   "execution_count": 80,
   "id": "f7b3fb28",
   "metadata": {},
   "outputs": [],
   "source": [
    "word='Hello, How are you?'"
   ]
  },
  {
   "cell_type": "code",
   "execution_count": 85,
   "id": "1b4ac07c",
   "metadata": {},
   "outputs": [
    {
     "name": "stdout",
     "output_type": "stream",
     "text": [
      "How\n"
     ]
    }
   ],
   "source": [
    "print(word[7:10])"
   ]
  },
  {
   "cell_type": "code",
   "execution_count": 86,
   "id": "02771e85",
   "metadata": {},
   "outputs": [
    {
     "name": "stdout",
     "output_type": "stream",
     "text": [
      "How are you?\n"
     ]
    }
   ],
   "source": [
    "print(word[7:])"
   ]
  },
  {
   "cell_type": "code",
   "execution_count": 87,
   "id": "0bcab6cb",
   "metadata": {},
   "outputs": [
    {
     "name": "stdout",
     "output_type": "stream",
     "text": [
      "are \n"
     ]
    }
   ],
   "source": [
    "print(word[-8:-4])"
   ]
  },
  {
   "cell_type": "code",
   "execution_count": 89,
   "id": "1ca5301b",
   "metadata": {},
   "outputs": [
    {
     "name": "stdout",
     "output_type": "stream",
     "text": [
      "?\n"
     ]
    }
   ],
   "source": [
    "print(word[-1])"
   ]
  },
  {
   "cell_type": "code",
   "execution_count": 90,
   "id": "d446050f",
   "metadata": {},
   "outputs": [
    {
     "name": "stdout",
     "output_type": "stream",
     "text": [
      "Hello, How are you\n"
     ]
    }
   ],
   "source": [
    "print(word[:-1])"
   ]
  },
  {
   "cell_type": "markdown",
   "id": "e4167de5",
   "metadata": {},
   "source": [
    "### Q8\n",
    "Given the following python code,\n",
    "\n",
    "`sentence = \"I am very excited\"`\n",
    "\n",
    "Write Python code to return \n",
    "- Convert sentence to upper case\n",
    "- Convert sentence to lower case\n",
    "- Convert sentence to title case\n",
    "- Convert sentence to list of strings\n",
    " "
   ]
  },
  {
   "cell_type": "code",
   "execution_count": 37,
   "id": "557812c9",
   "metadata": {},
   "outputs": [],
   "source": [
    "sentence = \"I am very excited\""
   ]
  },
  {
   "cell_type": "code",
   "execution_count": 91,
   "id": "a8a2f86a",
   "metadata": {},
   "outputs": [
    {
     "name": "stdout",
     "output_type": "stream",
     "text": [
      "I AM VERY EXCITED\n"
     ]
    }
   ],
   "source": [
    "print(sentence.upper())"
   ]
  },
  {
   "cell_type": "code",
   "execution_count": 92,
   "id": "a35ed739",
   "metadata": {},
   "outputs": [
    {
     "name": "stdout",
     "output_type": "stream",
     "text": [
      "i am very excited\n"
     ]
    }
   ],
   "source": [
    "print(sentence.lower())"
   ]
  },
  {
   "cell_type": "code",
   "execution_count": 93,
   "id": "8f03f8d3",
   "metadata": {},
   "outputs": [
    {
     "name": "stdout",
     "output_type": "stream",
     "text": [
      "I Am Very Excited\n"
     ]
    }
   ],
   "source": [
    "print(sentence.title())"
   ]
  },
  {
   "cell_type": "code",
   "execution_count": 94,
   "id": "af81e2bf",
   "metadata": {},
   "outputs": [
    {
     "name": "stdout",
     "output_type": "stream",
     "text": [
      "['I', 'am', 'very', 'excited']\n"
     ]
    }
   ],
   "source": [
    "print(sentence.split())"
   ]
  },
  {
   "cell_type": "markdown",
   "id": "4faf0134",
   "metadata": {},
   "source": [
    "### Q9\n",
    "`word = 'OneThirtyEight'`\n",
    "\n",
    "Using Python code extract the following from the variable word:\n",
    "- One\n",
    "- Thirty\n",
    "- Eight\n",
    "- OneThirty\n",
    "- ThirtyEight\n",
    "- ONETHIRTYEIGHT"
   ]
  },
  {
   "cell_type": "code",
   "execution_count": 96,
   "id": "08d5afc4",
   "metadata": {},
   "outputs": [],
   "source": [
    "word = 'OneThirtyEight'"
   ]
  },
  {
   "cell_type": "raw",
   "id": "76c9f999",
   "metadata": {},
   "source": [
    "Using Python code extract One"
   ]
  },
  {
   "cell_type": "code",
   "execution_count": 97,
   "id": "407d0a5c",
   "metadata": {},
   "outputs": [
    {
     "name": "stdout",
     "output_type": "stream",
     "text": [
      "One\n"
     ]
    }
   ],
   "source": [
    "print(word[:3])"
   ]
  },
  {
   "cell_type": "raw",
   "id": "3db0a3ec",
   "metadata": {},
   "source": [
    "Using Python code extract Thirty"
   ]
  },
  {
   "cell_type": "code",
   "execution_count": 98,
   "id": "a3b8d44b",
   "metadata": {},
   "outputs": [
    {
     "name": "stdout",
     "output_type": "stream",
     "text": [
      "Thirty\n"
     ]
    }
   ],
   "source": [
    "print(word[3:9])"
   ]
  },
  {
   "cell_type": "code",
   "execution_count": null,
   "id": "9f60b1b4",
   "metadata": {},
   "outputs": [],
   "source": [
    "Using Python code extract Eight"
   ]
  },
  {
   "cell_type": "code",
   "execution_count": 99,
   "id": "47248269",
   "metadata": {},
   "outputs": [
    {
     "name": "stdout",
     "output_type": "stream",
     "text": [
      "Eight\n"
     ]
    }
   ],
   "source": [
    "print(word[-5:])"
   ]
  },
  {
   "cell_type": "raw",
   "id": "3e17a9f4",
   "metadata": {},
   "source": [
    "Using Python code extract OneThirty"
   ]
  },
  {
   "cell_type": "code",
   "execution_count": 100,
   "id": "9e50fdfe",
   "metadata": {},
   "outputs": [
    {
     "name": "stdout",
     "output_type": "stream",
     "text": [
      "OneThirty\n"
     ]
    }
   ],
   "source": [
    "print(word[:9])"
   ]
  },
  {
   "cell_type": "code",
   "execution_count": null,
   "id": "bce2010f",
   "metadata": {},
   "outputs": [],
   "source": [
    "Using Python code extract ThirtyEight"
   ]
  },
  {
   "cell_type": "code",
   "execution_count": 101,
   "id": "08fe8b03",
   "metadata": {},
   "outputs": [
    {
     "name": "stdout",
     "output_type": "stream",
     "text": [
      "ThirtyEight\n"
     ]
    }
   ],
   "source": [
    "print(word[3:])"
   ]
  },
  {
   "cell_type": "code",
   "execution_count": null,
   "id": "9f95e330",
   "metadata": {},
   "outputs": [],
   "source": [
    "Using Python code extract ONETHIRTYEIGHT"
   ]
  },
  {
   "cell_type": "code",
   "execution_count": 102,
   "id": "eb5d5421",
   "metadata": {},
   "outputs": [
    {
     "name": "stdout",
     "output_type": "stream",
     "text": [
      "ONETHIRTYEIGHT\n"
     ]
    }
   ],
   "source": [
    "print(word.upper())"
   ]
  },
  {
   "cell_type": "markdown",
   "id": "2a4eea1f",
   "metadata": {},
   "source": [
    "### Q10\n",
    "Turn Ault'Kelly into a string and assign it to a variable  called name."
   ]
  },
  {
   "cell_type": "code",
   "execution_count": 55,
   "id": "aa2f0a08",
   "metadata": {},
   "outputs": [
    {
     "data": {
      "text/plain": [
       "\"Ault'Kelly\""
      ]
     },
     "execution_count": 55,
     "metadata": {},
     "output_type": "execute_result"
    }
   ],
   "source": [
    "name= str(\"Ault'Kelly\")\n",
    "name"
   ]
  },
  {
   "cell_type": "code",
   "execution_count": 56,
   "id": "3d660623",
   "metadata": {},
   "outputs": [
    {
     "data": {
      "text/plain": [
       "str"
      ]
     },
     "execution_count": 56,
     "metadata": {},
     "output_type": "execute_result"
    }
   ],
   "source": [
    "type(name)"
   ]
  }
 ],
 "metadata": {
  "kernelspec": {
   "display_name": "Python 3 (ipykernel)",
   "language": "python",
   "name": "python3"
  },
  "language_info": {
   "codemirror_mode": {
    "name": "ipython",
    "version": 3
   },
   "file_extension": ".py",
   "mimetype": "text/x-python",
   "name": "python",
   "nbconvert_exporter": "python",
   "pygments_lexer": "ipython3",
   "version": "3.9.12"
  }
 },
 "nbformat": 4,
 "nbformat_minor": 5
}
